{
 "cells": [
  {
   "cell_type": "markdown",
   "id": "60d54e3c",
   "metadata": {},
   "source": [
    "# Object Detection"
   ]
  },
  {
   "cell_type": "markdown",
   "id": "28f26dd9",
   "metadata": {},
   "source": [
    "Project Path"
   ]
  },
  {
   "cell_type": "code",
   "execution_count": 1,
   "id": "2bc01234",
   "metadata": {},
   "outputs": [],
   "source": [
    "path = \"C:/Users/Pongphan/Desktop/\""
   ]
  },
  {
   "cell_type": "markdown",
   "id": "1511a2be",
   "metadata": {},
   "source": [
    "Load Model Parameter (.h5 file)"
   ]
  },
  {
   "cell_type": "code",
   "execution_count": 2,
   "id": "18aa88aa",
   "metadata": {},
   "outputs": [],
   "source": [
    "from keras.models import load_model\n",
    "\n",
    "model = load_model(path + \"best_model_fold_MobileNet3.h5\")\n",
    "#model.summary()"
   ]
  },
  {
   "cell_type": "markdown",
   "id": "dbf91d80",
   "metadata": {},
   "source": [
    "Custom Function for Import test Images"
   ]
  },
  {
   "cell_type": "code",
   "execution_count": 3,
   "id": "dc01e771",
   "metadata": {},
   "outputs": [],
   "source": [
    "import cv2\n",
    "import numpy as np\n",
    "\n",
    "def ObjectDet(num):\n",
    "    img = cv2.imread(path + f\"evegg ({num}).tif\")\n",
    "    ratio = 1\n",
    "\n",
    "    img = cv2.resize(img, (img.shape[1]//ratio,img.shape[0]//ratio), interpolation = cv2.INTER_AREA)\n",
    "\n",
    "    box_size_y = 370\n",
    "    box_size_x = 370\n",
    "    \n",
    "    step_size = 50\n",
    "\n",
    "    img_output = np.array(img)\n",
    "    img_cont = np.zeros((img_output.shape[0],img_output.shape[1]))\n",
    "    result = 0\n",
    "\n",
    "    for i in range(0,img_output.shape[0]-box_size_y,step_size):\n",
    "        for j in range(0,img_output.shape[1]-box_size_x,step_size):\n",
    "            img_patch = img_output[i:i+box_size_y,j:j+box_size_x]\n",
    "            img_patch = cv2.resize(img_patch,(128,128),interpolation=cv2.INTER_AREA)\n",
    "            img_patch = [img_patch]\n",
    "            img_patch = np.array(img_patch)\n",
    "            \n",
    "            y_outp = model.predict(img_patch,verbose=0)\n",
    "\n",
    "            if result < y_outp[0][1] and y_outp[0][1] > 0.8:\n",
    "                result = y_outp[0][1]\n",
    "                img_cont[i+(box_size_y//2),j+(box_size_x//2)] = y_outp[0][1]*255\n",
    "\n",
    "    boxlocat = []\n",
    "    \n",
    "    if result != 0:\n",
    "        label = \"Ov:\"+format(result, f\".{2}f\")\n",
    "        boxlocat = boxlocation(img_cont,box_size_x//2)\n",
    "        img_output = drawbox(img,label,boxlocat[0],boxlocat[1],boxlocat[2],boxlocat[3],box_size_x//2)\n",
    "\n",
    "    image_path = path + f\"heatmap_{num}.png\"\n",
    "    cv2.imwrite(image_path, img_cont)\n",
    "\n",
    "    image_path = path + f\"output_{num}\"+str(boxlocat)+\".png\"\n",
    "    cv2.imwrite(image_path, img_output)"
   ]
  },
  {
   "cell_type": "markdown",
   "id": "4cb6d74b",
   "metadata": {},
   "source": [
    "Custom Function for Identified Bounding Box"
   ]
  },
  {
   "cell_type": "code",
   "execution_count": 4,
   "id": "b903931e",
   "metadata": {},
   "outputs": [],
   "source": [
    "def boxlocation(img_c,box_size):\n",
    "    a = b = c = d = 0\n",
    "    for i in range(img_c.shape[0]):\n",
    "        for j in range(img_c.shape[1]):\n",
    "            if a==0 and img_c[i,j]>0:\n",
    "                a = i\n",
    "            if a!=0 and img_c[i,j]>0:\n",
    "                b = i\n",
    "    for j in range(img_c.shape[1]):\n",
    "        for i in range(img_c.shape[0]):\n",
    "            if c==0 and img_c[i,j]>0:\n",
    "                c = j\n",
    "            if c!=0 and img_c[i,j]>0:\n",
    "                d = j\n",
    "    locat = [a-box_size,b+box_size,c-box_size,d+box_size]\n",
    "    return locat"
   ]
  },
  {
   "cell_type": "markdown",
   "id": "c5b4f5ef",
   "metadata": {},
   "source": [
    "Custom Function for Draw Bounding Box"
   ]
  },
  {
   "cell_type": "code",
   "execution_count": 5,
   "id": "c4fa8beb",
   "metadata": {},
   "outputs": [],
   "source": [
    "def drawbox(img,label,a,b,c,d,box_size):\n",
    "    image = cv2.rectangle(img, (c,a), (d,b), (0, 255, 0), 2)\n",
    "    image = cv2.putText(image, label, (c+box_size,a-10), cv2.FONT_HERSHEY_TRIPLEX, 2, (255, 0, 255), 1)\n",
    "    return image"
   ]
  },
  {
   "cell_type": "markdown",
   "id": "694457d8",
   "metadata": {},
   "source": [
    "Detect Ov egg in Selected Image"
   ]
  },
  {
   "cell_type": "code",
   "execution_count": 6,
   "id": "3b89cbd2",
   "metadata": {},
   "outputs": [
    {
     "name": "stdout",
     "output_type": "stream",
     "text": [
      "time: 17:19:59.688176\n",
      "time: 17:21:13.421887\n",
      "Detection Complete !\n"
     ]
    }
   ],
   "source": [
    "import datetime\n",
    "\n",
    "current_time = datetime.datetime.now().time()\n",
    "print(\"time:\", current_time)\n",
    "ObjectDet('3000')\n",
    "current_time = datetime.datetime.now().time()\n",
    "print(\"time:\", current_time)\n",
    "\n",
    "print(\"Detection Complete !\")"
   ]
  }
 ],
 "metadata": {
  "kernelspec": {
   "display_name": "Python 3 (ipykernel)",
   "language": "python",
   "name": "python3"
  },
  "language_info": {
   "codemirror_mode": {
    "name": "ipython",
    "version": 3
   },
   "file_extension": ".py",
   "mimetype": "text/x-python",
   "name": "python",
   "nbconvert_exporter": "python",
   "pygments_lexer": "ipython3",
   "version": "3.10.13"
  }
 },
 "nbformat": 4,
 "nbformat_minor": 5
}
